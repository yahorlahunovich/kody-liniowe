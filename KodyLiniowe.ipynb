{
 "cells": [
  {
   "cell_type": "code",
   "execution_count": 196,
   "id": "a8c9a4f8-6bd9-4d5c-b7b5-f5b539271a6e",
   "metadata": {},
   "outputs": [
    {
     "name": "stdout",
     "output_type": "stream",
     "text": [
      "2\n"
     ]
    }
   ],
   "source": [
    "# zadanko 5\n",
    "\n",
    "def hamming_distance(v1, v2):\n",
    "    if len(v1) != len(v2):\n",
    "        raise ValueError(\"Strings must be of equal length\")\n",
    "    dist_counter = 0\n",
    "    for n in range(len(v1)):\n",
    "        if v1[n] != v2[n]:\n",
    "            dist_counter += 1\n",
    "    return dist_counter\n",
    "\n",
    "print(hamming_distance([1, 2, 0, 1], [0, 0, 0, 1]))"
   ]
  },
  {
   "cell_type": "code",
   "execution_count": null,
   "id": "28b7201d",
   "metadata": {},
   "outputs": [],
   "source": []
  },
  {
   "cell_type": "code",
   "execution_count": null,
   "id": "c2b976ea",
   "metadata": {},
   "outputs": [],
   "source": []
  },
  {
   "cell_type": "code",
   "execution_count": null,
   "id": "3ed926a4",
   "metadata": {},
   "outputs": [],
   "source": []
  },
  {
   "cell_type": "code",
   "execution_count": null,
   "id": "372af851",
   "metadata": {},
   "outputs": [],
   "source": []
  },
  {
   "cell_type": "code",
   "execution_count": null,
   "id": "a4ca5f03",
   "metadata": {},
   "outputs": [],
   "source": []
  },
  {
   "cell_type": "code",
   "execution_count": null,
   "id": "b941daa8",
   "metadata": {},
   "outputs": [],
   "source": []
  },
  {
   "cell_type": "code",
   "execution_count": 294,
   "id": "9613b8cb-1742-4898-8698-1dc1ad8bf996",
   "metadata": {},
   "outputs": [
    {
     "name": "stdout",
     "output_type": "stream",
     "text": [
      "Minimum Hamming Distance: 3\n",
      "Pairs with Minimum Distance:\n",
      "[1, 2, 1, 2, 0]\n",
      "[1, 1, 1, 1, 1]\n",
      "\n",
      "[1, 2, 1, 2, 0]\n",
      "[2, 2, 2, 1, 0]\n",
      "\n",
      "[1, 1, 1, 1, 1]\n",
      "[0, 0, 2, 1, 1]\n",
      "\n",
      "[0, 0, 2, 1, 1]\n",
      "[2, 2, 2, 1, 0]\n",
      "\n"
     ]
    }
   ],
   "source": [
    "# Definicje wektorów\n",
    "a = [1, 2, 1, 2, 0]\n",
    "b = [1, 1, 1, 1, 1]\n",
    "c = [0, 0, 2, 1, 1]\n",
    "d = [2, 2, 2, 1, 0]\n",
    "\n",
    "# Tworzenie listy zawierającej wszystkie wektory\n",
    "myList = [a, b, c, d]\n",
    "\n",
    "# Inicjalizacja zmiennej przechowującej najmniejszą odległość\n",
    "mindistance = float(\"inf\")\n",
    "\n",
    "# Inicjalizacja listy przechowującej pary wektorów o najmniejszej odległości\n",
    "mindistancepair = []\n",
    "\n",
    "# Funkcja obliczająca najmniejszą odległość pomiędzy wszystkimi parami wektorów\n",
    "def mindistance_function(myList, mindistance):\n",
    "    for i in range(len(myList)):\n",
    "        for j in range(i + 1, len(myList)):\n",
    "            distance = hamming_distance(myList[i], myList[j])  \n",
    "            if distance < mindistance:\n",
    "                mindistance = distance \n",
    "    return mindistance\n",
    "\n",
    "mindistance = mindistance_function(myList, mindistance)\n",
    "print(\"Minimum Hamming Distance:\", mindistance)\n",
    "\n",
    "# Funkcja znajdująca pary wektorów o najmniejszej odległości\n",
    "def mindistancepair_function(myList, mindistance):\n",
    "    mindistancepair = []\n",
    "    for i in range(len(myList)):\n",
    "        for j in range(i + 1, len(myList)):\n",
    "            distance = hamming_distance(myList[i], myList[j]) \n",
    "            if distance == mindistance:  \n",
    "                mindistancepair.append([myList[i], myList[j]])  \n",
    "    return mindistancepair\n",
    "\n",
    "# Wywołanie funkcji i wydrukowanie par wektorów o najmniejszej odległości\n",
    "mindistancepair = mindistancepair_function(myList, mindistance)\n",
    "print(\"Pairs with Minimum Distance:\")\n",
    "for pair in mindistancepair:\n",
    "    print(\"[\" + \", \".join(map(str, pair[0])) + \"]\") \n",
    "    print(\"[\" + \", \".join(map(str, pair[1])) + \"]\")  \n",
    "    print()\n"
   ]
  },
  {
   "cell_type": "code",
   "execution_count": null,
   "id": "638feaed",
   "metadata": {},
   "outputs": [],
   "source": []
  },
  {
   "cell_type": "code",
   "execution_count": 316,
   "id": "af79b75f-b777-4dc6-8bfe-b67fb8e9cf2e",
   "metadata": {
    "scrolled": true
   },
   "outputs": [
    {
     "name": "stdout",
     "output_type": "stream",
     "text": [
      "[0, 0, 0, 0, 0]\n",
      "[0, 0, 1, 5, 6]\n",
      "[0, 0, 2, 3, 5]\n",
      "[0, 0, 3, 1, 4]\n",
      "[0, 0, 4, 6, 3]\n",
      "[0, 0, 5, 4, 2]\n",
      "[0, 0, 6, 2, 1]\n",
      "[0, 1, 0, 1, 0]\n",
      "[0, 1, 1, 6, 6]\n",
      "[0, 1, 2, 4, 5]\n",
      "[0, 1, 3, 2, 4]\n",
      "[0, 1, 4, 0, 3]\n",
      "[0, 1, 5, 5, 2]\n",
      "[0, 1, 6, 3, 1]\n",
      "[0, 2, 0, 2, 0]\n",
      "[0, 2, 1, 0, 6]\n",
      "[0, 2, 2, 5, 5]\n",
      "[0, 2, 3, 3, 4]\n",
      "[0, 2, 4, 1, 3]\n",
      "[0, 2, 5, 6, 2]\n",
      "[0, 2, 6, 4, 1]\n",
      "[0, 3, 0, 3, 0]\n",
      "[0, 3, 1, 1, 6]\n",
      "[0, 3, 2, 6, 5]\n",
      "[0, 3, 3, 4, 4]\n",
      "[0, 3, 4, 2, 3]\n",
      "[0, 3, 5, 0, 2]\n",
      "[0, 3, 6, 5, 1]\n",
      "[0, 4, 0, 4, 0]\n",
      "[0, 4, 1, 2, 6]\n",
      "[0, 4, 2, 0, 5]\n",
      "[0, 4, 3, 5, 4]\n",
      "[0, 4, 4, 3, 3]\n",
      "[0, 4, 5, 1, 2]\n",
      "[0, 4, 6, 6, 1]\n",
      "[0, 5, 0, 5, 0]\n",
      "[0, 5, 1, 3, 6]\n",
      "[0, 5, 2, 1, 5]\n",
      "[0, 5, 3, 6, 4]\n",
      "[0, 5, 4, 4, 3]\n",
      "[0, 5, 5, 2, 2]\n",
      "[0, 5, 6, 0, 1]\n",
      "[0, 6, 0, 6, 0]\n",
      "[0, 6, 1, 4, 6]\n",
      "[0, 6, 2, 2, 5]\n",
      "[0, 6, 3, 0, 4]\n",
      "[0, 6, 4, 5, 3]\n",
      "[0, 6, 5, 3, 2]\n",
      "[0, 6, 6, 1, 1]\n",
      "[1, 0, 0, 2, 4]\n",
      "[1, 0, 1, 0, 3]\n",
      "[1, 0, 2, 5, 2]\n",
      "[1, 0, 3, 3, 1]\n",
      "[1, 0, 4, 1, 0]\n",
      "[1, 0, 5, 6, 6]\n",
      "[1, 0, 6, 4, 5]\n",
      "[1, 1, 0, 3, 4]\n",
      "[1, 1, 1, 1, 3]\n",
      "[1, 1, 2, 6, 2]\n",
      "[1, 1, 3, 4, 1]\n",
      "[1, 1, 4, 2, 0]\n",
      "[1, 1, 5, 0, 6]\n",
      "[1, 1, 6, 5, 5]\n",
      "[1, 2, 0, 4, 4]\n",
      "[1, 2, 1, 2, 3]\n",
      "[1, 2, 2, 0, 2]\n",
      "[1, 2, 3, 5, 1]\n",
      "[1, 2, 4, 3, 0]\n",
      "[1, 2, 5, 1, 6]\n",
      "[1, 2, 6, 6, 5]\n",
      "[1, 3, 0, 5, 4]\n",
      "[1, 3, 1, 3, 3]\n",
      "[1, 3, 2, 1, 2]\n",
      "[1, 3, 3, 6, 1]\n",
      "[1, 3, 4, 4, 0]\n",
      "[1, 3, 5, 2, 6]\n",
      "[1, 3, 6, 0, 5]\n",
      "[1, 4, 0, 6, 4]\n",
      "[1, 4, 1, 4, 3]\n",
      "[1, 4, 2, 2, 2]\n",
      "[1, 4, 3, 0, 1]\n",
      "[1, 4, 4, 5, 0]\n",
      "[1, 4, 5, 3, 6]\n",
      "[1, 4, 6, 1, 5]\n",
      "[1, 5, 0, 0, 4]\n",
      "[1, 5, 1, 5, 3]\n",
      "[1, 5, 2, 3, 2]\n",
      "[1, 5, 3, 1, 1]\n",
      "[1, 5, 4, 6, 0]\n",
      "[1, 5, 5, 4, 6]\n",
      "[1, 5, 6, 2, 5]\n",
      "[1, 6, 0, 1, 4]\n",
      "[1, 6, 1, 6, 3]\n",
      "[1, 6, 2, 4, 2]\n",
      "[1, 6, 3, 2, 1]\n",
      "[1, 6, 4, 0, 0]\n",
      "[1, 6, 5, 5, 6]\n",
      "[1, 6, 6, 3, 5]\n",
      "[2, 0, 0, 4, 1]\n",
      "[2, 0, 1, 2, 0]\n",
      "[2, 0, 2, 0, 6]\n",
      "[2, 0, 3, 5, 5]\n",
      "[2, 0, 4, 3, 4]\n",
      "[2, 0, 5, 1, 3]\n",
      "[2, 0, 6, 6, 2]\n",
      "[2, 1, 0, 5, 1]\n",
      "[2, 1, 1, 3, 0]\n",
      "[2, 1, 2, 1, 6]\n",
      "[2, 1, 3, 6, 5]\n",
      "[2, 1, 4, 4, 4]\n",
      "[2, 1, 5, 2, 3]\n",
      "[2, 1, 6, 0, 2]\n",
      "[2, 2, 0, 6, 1]\n",
      "[2, 2, 1, 4, 0]\n",
      "[2, 2, 2, 2, 6]\n",
      "[2, 2, 3, 0, 5]\n",
      "[2, 2, 4, 5, 4]\n",
      "[2, 2, 5, 3, 3]\n",
      "[2, 2, 6, 1, 2]\n",
      "[2, 3, 0, 0, 1]\n",
      "[2, 3, 1, 5, 0]\n",
      "[2, 3, 2, 3, 6]\n",
      "[2, 3, 3, 1, 5]\n",
      "[2, 3, 4, 6, 4]\n",
      "[2, 3, 5, 4, 3]\n",
      "[2, 3, 6, 2, 2]\n",
      "[2, 4, 0, 1, 1]\n",
      "[2, 4, 1, 6, 0]\n",
      "[2, 4, 2, 4, 6]\n",
      "[2, 4, 3, 2, 5]\n",
      "[2, 4, 4, 0, 4]\n",
      "[2, 4, 5, 5, 3]\n",
      "[2, 4, 6, 3, 2]\n",
      "[2, 5, 0, 2, 1]\n",
      "[2, 5, 1, 0, 0]\n",
      "[2, 5, 2, 5, 6]\n",
      "[2, 5, 3, 3, 5]\n",
      "[2, 5, 4, 1, 4]\n",
      "[2, 5, 5, 6, 3]\n",
      "[2, 5, 6, 4, 2]\n",
      "[2, 6, 0, 3, 1]\n",
      "[2, 6, 1, 1, 0]\n",
      "[2, 6, 2, 6, 6]\n",
      "[2, 6, 3, 4, 5]\n",
      "[2, 6, 4, 2, 4]\n",
      "[2, 6, 5, 0, 3]\n",
      "[2, 6, 6, 5, 2]\n",
      "[3, 0, 0, 6, 5]\n",
      "[3, 0, 1, 4, 4]\n",
      "[3, 0, 2, 2, 3]\n",
      "[3, 0, 3, 0, 2]\n",
      "[3, 0, 4, 5, 1]\n",
      "[3, 0, 5, 3, 0]\n",
      "[3, 0, 6, 1, 6]\n",
      "[3, 1, 0, 0, 5]\n",
      "[3, 1, 1, 5, 4]\n",
      "[3, 1, 2, 3, 3]\n",
      "[3, 1, 3, 1, 2]\n",
      "[3, 1, 4, 6, 1]\n",
      "[3, 1, 5, 4, 0]\n",
      "[3, 1, 6, 2, 6]\n",
      "[3, 2, 0, 1, 5]\n",
      "[3, 2, 1, 6, 4]\n",
      "[3, 2, 2, 4, 3]\n",
      "[3, 2, 3, 2, 2]\n",
      "[3, 2, 4, 0, 1]\n",
      "[3, 2, 5, 5, 0]\n",
      "[3, 2, 6, 3, 6]\n",
      "[3, 3, 0, 2, 5]\n",
      "[3, 3, 1, 0, 4]\n",
      "[3, 3, 2, 5, 3]\n",
      "[3, 3, 3, 3, 2]\n",
      "[3, 3, 4, 1, 1]\n",
      "[3, 3, 5, 6, 0]\n",
      "[3, 3, 6, 4, 6]\n",
      "[3, 4, 0, 3, 5]\n",
      "[3, 4, 1, 1, 4]\n",
      "[3, 4, 2, 6, 3]\n",
      "[3, 4, 3, 4, 2]\n",
      "[3, 4, 4, 2, 1]\n",
      "[3, 4, 5, 0, 0]\n",
      "[3, 4, 6, 5, 6]\n",
      "[3, 5, 0, 4, 5]\n",
      "[3, 5, 1, 2, 4]\n",
      "[3, 5, 2, 0, 3]\n",
      "[3, 5, 3, 5, 2]\n",
      "[3, 5, 4, 3, 1]\n",
      "[3, 5, 5, 1, 0]\n",
      "[3, 5, 6, 6, 6]\n",
      "[3, 6, 0, 5, 5]\n",
      "[3, 6, 1, 3, 4]\n",
      "[3, 6, 2, 1, 3]\n",
      "[3, 6, 3, 6, 2]\n",
      "[3, 6, 4, 4, 1]\n",
      "[3, 6, 5, 2, 0]\n",
      "[3, 6, 6, 0, 6]\n",
      "[4, 0, 0, 1, 2]\n",
      "[4, 0, 1, 6, 1]\n",
      "[4, 0, 2, 4, 0]\n",
      "[4, 0, 3, 2, 6]\n",
      "[4, 0, 4, 0, 5]\n",
      "[4, 0, 5, 5, 4]\n",
      "[4, 0, 6, 3, 3]\n",
      "[4, 1, 0, 2, 2]\n",
      "[4, 1, 1, 0, 1]\n",
      "[4, 1, 2, 5, 0]\n",
      "[4, 1, 3, 3, 6]\n",
      "[4, 1, 4, 1, 5]\n",
      "[4, 1, 5, 6, 4]\n",
      "[4, 1, 6, 4, 3]\n",
      "[4, 2, 0, 3, 2]\n",
      "[4, 2, 1, 1, 1]\n",
      "[4, 2, 2, 6, 0]\n",
      "[4, 2, 3, 4, 6]\n",
      "[4, 2, 4, 2, 5]\n",
      "[4, 2, 5, 0, 4]\n",
      "[4, 2, 6, 5, 3]\n",
      "[4, 3, 0, 4, 2]\n",
      "[4, 3, 1, 2, 1]\n",
      "[4, 3, 2, 0, 0]\n",
      "[4, 3, 3, 5, 6]\n",
      "[4, 3, 4, 3, 5]\n",
      "[4, 3, 5, 1, 4]\n",
      "[4, 3, 6, 6, 3]\n",
      "[4, 4, 0, 5, 2]\n",
      "[4, 4, 1, 3, 1]\n",
      "[4, 4, 2, 1, 0]\n",
      "[4, 4, 3, 6, 6]\n",
      "[4, 4, 4, 4, 5]\n",
      "[4, 4, 5, 2, 4]\n",
      "[4, 4, 6, 0, 3]\n",
      "[4, 5, 0, 6, 2]\n",
      "[4, 5, 1, 4, 1]\n",
      "[4, 5, 2, 2, 0]\n",
      "[4, 5, 3, 0, 6]\n",
      "[4, 5, 4, 5, 5]\n",
      "[4, 5, 5, 3, 4]\n",
      "[4, 5, 6, 1, 3]\n",
      "[4, 6, 0, 0, 2]\n",
      "[4, 6, 1, 5, 1]\n",
      "[4, 6, 2, 3, 0]\n",
      "[4, 6, 3, 1, 6]\n",
      "[4, 6, 4, 6, 5]\n",
      "[4, 6, 5, 4, 4]\n",
      "[4, 6, 6, 2, 3]\n",
      "[5, 0, 0, 3, 6]\n",
      "[5, 0, 1, 1, 5]\n",
      "[5, 0, 2, 6, 4]\n",
      "[5, 0, 3, 4, 3]\n",
      "[5, 0, 4, 2, 2]\n",
      "[5, 0, 5, 0, 1]\n",
      "[5, 0, 6, 5, 0]\n",
      "[5, 1, 0, 4, 6]\n",
      "[5, 1, 1, 2, 5]\n",
      "[5, 1, 2, 0, 4]\n",
      "[5, 1, 3, 5, 3]\n",
      "[5, 1, 4, 3, 2]\n",
      "[5, 1, 5, 1, 1]\n",
      "[5, 1, 6, 6, 0]\n",
      "[5, 2, 0, 5, 6]\n",
      "[5, 2, 1, 3, 5]\n",
      "[5, 2, 2, 1, 4]\n",
      "[5, 2, 3, 6, 3]\n",
      "[5, 2, 4, 4, 2]\n",
      "[5, 2, 5, 2, 1]\n",
      "[5, 2, 6, 0, 0]\n",
      "[5, 3, 0, 6, 6]\n",
      "[5, 3, 1, 4, 5]\n",
      "[5, 3, 2, 2, 4]\n",
      "[5, 3, 3, 0, 3]\n",
      "[5, 3, 4, 5, 2]\n",
      "[5, 3, 5, 3, 1]\n",
      "[5, 3, 6, 1, 0]\n",
      "[5, 4, 0, 0, 6]\n",
      "[5, 4, 1, 5, 5]\n",
      "[5, 4, 2, 3, 4]\n",
      "[5, 4, 3, 1, 3]\n",
      "[5, 4, 4, 6, 2]\n",
      "[5, 4, 5, 4, 1]\n",
      "[5, 4, 6, 2, 0]\n",
      "[5, 5, 0, 1, 6]\n",
      "[5, 5, 1, 6, 5]\n",
      "[5, 5, 2, 4, 4]\n",
      "[5, 5, 3, 2, 3]\n",
      "[5, 5, 4, 0, 2]\n",
      "[5, 5, 5, 5, 1]\n",
      "[5, 5, 6, 3, 0]\n",
      "[5, 6, 0, 2, 6]\n",
      "[5, 6, 1, 0, 5]\n",
      "[5, 6, 2, 5, 4]\n",
      "[5, 6, 3, 3, 3]\n",
      "[5, 6, 4, 1, 2]\n",
      "[5, 6, 5, 6, 1]\n",
      "[5, 6, 6, 4, 0]\n",
      "[6, 0, 0, 5, 3]\n",
      "[6, 0, 1, 3, 2]\n",
      "[6, 0, 2, 1, 1]\n",
      "[6, 0, 3, 6, 0]\n",
      "[6, 0, 4, 4, 6]\n",
      "[6, 0, 5, 2, 5]\n",
      "[6, 0, 6, 0, 4]\n",
      "[6, 1, 0, 6, 3]\n",
      "[6, 1, 1, 4, 2]\n",
      "[6, 1, 2, 2, 1]\n",
      "[6, 1, 3, 0, 0]\n",
      "[6, 1, 4, 5, 6]\n",
      "[6, 1, 5, 3, 5]\n",
      "[6, 1, 6, 1, 4]\n",
      "[6, 2, 0, 0, 3]\n",
      "[6, 2, 1, 5, 2]\n",
      "[6, 2, 2, 3, 1]\n",
      "[6, 2, 3, 1, 0]\n",
      "[6, 2, 4, 6, 6]\n",
      "[6, 2, 5, 4, 5]\n",
      "[6, 2, 6, 2, 4]\n",
      "[6, 3, 0, 1, 3]\n",
      "[6, 3, 1, 6, 2]\n",
      "[6, 3, 2, 4, 1]\n",
      "[6, 3, 3, 2, 0]\n",
      "[6, 3, 4, 0, 6]\n",
      "[6, 3, 5, 5, 5]\n",
      "[6, 3, 6, 3, 4]\n",
      "[6, 4, 0, 2, 3]\n",
      "[6, 4, 1, 0, 2]\n",
      "[6, 4, 2, 5, 1]\n",
      "[6, 4, 3, 3, 0]\n",
      "[6, 4, 4, 1, 6]\n",
      "[6, 4, 5, 6, 5]\n",
      "[6, 4, 6, 4, 4]\n",
      "[6, 5, 0, 3, 3]\n",
      "[6, 5, 1, 1, 2]\n",
      "[6, 5, 2, 6, 1]\n",
      "[6, 5, 3, 4, 0]\n",
      "[6, 5, 4, 2, 6]\n",
      "[6, 5, 5, 0, 5]\n",
      "[6, 5, 6, 5, 4]\n",
      "[6, 6, 0, 4, 3]\n",
      "[6, 6, 1, 2, 2]\n",
      "[6, 6, 2, 0, 1]\n",
      "[6, 6, 3, 5, 0]\n",
      "[6, 6, 4, 3, 6]\n",
      "[6, 6, 5, 1, 5]\n",
      "[6, 6, 6, 6, 4]\n"
     ]
    }
   ],
   "source": [
    "# zadanko 6\n",
    "import itertools  #moduł itertools,\n",
    "#który zapewnia funkcje do efektywnego tworzenia iteracyjnych struktur danych\n",
    "\n",
    "# definiujemy wektory a, b i c\n",
    "a = [1, 0, 0, 2, 4]\n",
    "b = [0, 1, 0, 1, 0]\n",
    "c = [0, 0, 1, 5, 6]\n",
    "\n",
    "# Zdefiniowanie zbioru Z7\n",
    "Z7 = [0, 1, 2, 3, 4, 5, 6]\n",
    "\n",
    "slowa = [] \n",
    "\n",
    "# Pętla generująca wszystkie kombinacje trójek elementów ze zbioru Z7\n",
    "for combination in itertools.product(Z7, repeat=3):\n",
    "    # Obliczamy wartości każdego słowa kodowego na podstawie kombinacji trójek\n",
    "    slowo = [(a[i] * combination[0] + b[i] * combination[1] + c[i] * combination[2]) % 7 for i in range(5)]\n",
    "    slowa.append(slowo)\n",
    "\n",
    "for slowo in slowa:\n",
    "    print(slowo)\n",
    "\n"
   ]
  },
  {
   "cell_type": "code",
   "execution_count": null,
   "id": "c0cdd116",
   "metadata": {},
   "outputs": [],
   "source": []
  },
  {
   "cell_type": "code",
   "execution_count": 317,
   "id": "043570b5",
   "metadata": {},
   "outputs": [
    {
     "data": {
      "text/plain": [
       "343"
      ]
     },
     "execution_count": 317,
     "metadata": {},
     "output_type": "execute_result"
    }
   ],
   "source": [
    "len(slowa)"
   ]
  },
  {
   "cell_type": "code",
   "execution_count": null,
   "id": "eb22304b",
   "metadata": {},
   "outputs": [],
   "source": []
  },
  {
   "cell_type": "code",
   "execution_count": null,
   "id": "8c9cb413",
   "metadata": {},
   "outputs": [],
   "source": []
  },
  {
   "cell_type": "code",
   "execution_count": 318,
   "id": "5e3572f8-3aa6-4c59-846a-d2ba4678dbf9",
   "metadata": {},
   "outputs": [],
   "source": [
    "# zadanko 7\n",
    "import random\n",
    "import numpy as np\n",
    "\n",
    "a = np.array([1, 0, 0, 2, 4])\n",
    "b = np.array([0, 1, 0, 1, 0])\n",
    "c = np.array([0, 0, 1, 5, 6])\n",
    "\n",
    "G = [a, b, c]\n",
    "v = [1, 2, 3, 4, 5]\n",
    "C = slowa # z poprzedniego zadanka\n",
    "\n",
    "\n",
    "\n",
    "def mindistance_function(myList, mindistance, v):\n",
    "    for i in range(len(myList)):\n",
    "        distance = hamming_distance(myList[i], v)  \n",
    "        if distance < mindistance:\n",
    "            mindistance = distance \n",
    "    return mindistance\n",
    "\n",
    "def mindistanceVectors_function_for_v(myList, mindistance, v):\n",
    "    mindistanceVectors = []\n",
    "    for i in range(len(myList)):\n",
    "        distance = hamming_distance(myList[i], v)\n",
    "        if distance == mindistance:\n",
    "            mindistanceVectors.append(myList[i])\n",
    "    return mindistanceVectors\n",
    "\n",
    "def MinimizeHammingDistance(C, B, v):\n",
    "    mindistance = float(\"inf\")\n",
    "    m = mindistance_function(C, mindistance, v)\n",
    "    L = mindistanceVectors_function_for_v(C, m, v)\n",
    "    w = random.choice(L)\n",
    "    # Obliczenie wektora współczynników w w bazie B\n",
    "\n",
    "    \n",
    "    for c1 in range(7):\n",
    "        for c2 in range (7):\n",
    "            for c3 in range(7):\n",
    "                v1 = c1*a\n",
    "                v2 = c2*b\n",
    "                v3 = c3*c\n",
    "                \n",
    "                u = (v1+v2)%7\n",
    "                z = (u+v3)%7\n",
    "                if hamming_distance(w, z) == 0:\n",
    "                    return[c1, c2, c3]"
   ]
  },
  {
   "cell_type": "code",
   "execution_count": 319,
   "id": "f3e53ecd",
   "metadata": {},
   "outputs": [
    {
     "data": {
      "text/plain": [
       "[1, 2, 0]"
      ]
     },
     "execution_count": 319,
     "metadata": {},
     "output_type": "execute_result"
    }
   ],
   "source": [
    "MinimizeHammingDistance(C, G, v)"
   ]
  },
  {
   "cell_type": "code",
   "execution_count": 99,
   "id": "74530574",
   "metadata": {},
   "outputs": [
    {
     "name": "stdout",
     "output_type": "stream",
     "text": [
      "[6, 2, 5, 4, 5]\n"
     ]
    }
   ],
   "source": []
  },
  {
   "cell_type": "code",
   "execution_count": 90,
   "id": "e3ff9433",
   "metadata": {},
   "outputs": [],
   "source": []
  },
  {
   "cell_type": "code",
   "execution_count": null,
   "id": "508b9243",
   "metadata": {},
   "outputs": [],
   "source": []
  },
  {
   "cell_type": "code",
   "execution_count": null,
   "id": "fc9b63d0",
   "metadata": {},
   "outputs": [],
   "source": []
  },
  {
   "cell_type": "code",
   "execution_count": null,
   "id": "a1482db5",
   "metadata": {},
   "outputs": [],
   "source": []
  },
  {
   "cell_type": "code",
   "execution_count": 87,
   "id": "26d66ed1",
   "metadata": {},
   "outputs": [
    {
     "name": "stdout",
     "output_type": "stream",
     "text": [
      "[[1, 0, 6, 4, 5], [1, 1, 3, 4, 1], [1, 2, 0, 4, 4], [1, 2, 3, 5, 1], [1, 2, 6, 6, 5], [2, 2, 3, 0, 5], [2, 6, 3, 4, 5], [4, 2, 3, 4, 6], [6, 2, 5, 4, 5]]\n",
      "None\n"
     ]
    }
   ],
   "source": []
  },
  {
   "cell_type": "code",
   "execution_count": null,
   "id": "071a41aa",
   "metadata": {},
   "outputs": [],
   "source": []
  },
  {
   "cell_type": "code",
   "execution_count": null,
   "id": "71ae91fc",
   "metadata": {},
   "outputs": [],
   "source": []
  },
  {
   "cell_type": "code",
   "execution_count": null,
   "id": "45570b79",
   "metadata": {},
   "outputs": [],
   "source": []
  },
  {
   "cell_type": "code",
   "execution_count": null,
   "id": "9c7de069",
   "metadata": {},
   "outputs": [],
   "source": []
  },
  {
   "cell_type": "code",
   "execution_count": null,
   "id": "f3f1a0f4",
   "metadata": {},
   "outputs": [],
   "source": []
  },
  {
   "cell_type": "code",
   "execution_count": null,
   "id": "f85c8039",
   "metadata": {},
   "outputs": [],
   "source": []
  },
  {
   "cell_type": "code",
   "execution_count": null,
   "id": "a7e3c6fb",
   "metadata": {},
   "outputs": [],
   "source": []
  },
  {
   "cell_type": "code",
   "execution_count": null,
   "id": "df0e0e2a",
   "metadata": {},
   "outputs": [],
   "source": []
  },
  {
   "cell_type": "code",
   "execution_count": null,
   "id": "f403b033",
   "metadata": {},
   "outputs": [],
   "source": []
  },
  {
   "cell_type": "code",
   "execution_count": null,
   "id": "5edada12",
   "metadata": {},
   "outputs": [],
   "source": []
  },
  {
   "cell_type": "code",
   "execution_count": null,
   "id": "237bcc7e",
   "metadata": {},
   "outputs": [],
   "source": []
  },
  {
   "cell_type": "code",
   "execution_count": null,
   "id": "6bed985b",
   "metadata": {},
   "outputs": [],
   "source": []
  },
  {
   "cell_type": "code",
   "execution_count": null,
   "id": "829f9611",
   "metadata": {},
   "outputs": [],
   "source": []
  },
  {
   "cell_type": "code",
   "execution_count": 56,
   "id": "fbd18963",
   "metadata": {},
   "outputs": [],
   "source": [
    "# BB = np.array([[1, 0, 2],\n",
    "#               [0, 1, 1],\n",
    "#               [3, 2, 0]])\n",
    "\n",
    "# zz = np.array([4, 3, 8])\n",
    "\n",
    "# cc = np.linalg.solve(BB, zz)"
   ]
  },
  {
   "cell_type": "code",
   "execution_count": 57,
   "id": "23f2d186",
   "metadata": {},
   "outputs": [
    {
     "data": {
      "text/plain": [
       "array([1.5 , 1.75, 1.25])"
      ]
     },
     "execution_count": 57,
     "metadata": {},
     "output_type": "execute_result"
    }
   ],
   "source": [
    "cc"
   ]
  },
  {
   "cell_type": "code",
   "execution_count": null,
   "id": "ff24c60d",
   "metadata": {},
   "outputs": [],
   "source": []
  },
  {
   "cell_type": "code",
   "execution_count": null,
   "id": "f94f3251",
   "metadata": {},
   "outputs": [],
   "source": []
  },
  {
   "cell_type": "code",
   "execution_count": null,
   "id": "2ad5977e",
   "metadata": {},
   "outputs": [],
   "source": []
  },
  {
   "cell_type": "code",
   "execution_count": null,
   "id": "2a153633",
   "metadata": {},
   "outputs": [],
   "source": []
  },
  {
   "cell_type": "code",
   "execution_count": null,
   "id": "f6003b44",
   "metadata": {},
   "outputs": [],
   "source": []
  },
  {
   "cell_type": "code",
   "execution_count": null,
   "id": "e8353aa4",
   "metadata": {},
   "outputs": [],
   "source": []
  },
  {
   "cell_type": "code",
   "execution_count": null,
   "id": "58d6fae3",
   "metadata": {},
   "outputs": [],
   "source": []
  },
  {
   "cell_type": "code",
   "execution_count": null,
   "id": "53ce1d6f",
   "metadata": {},
   "outputs": [],
   "source": []
  },
  {
   "cell_type": "code",
   "execution_count": null,
   "id": "25b9ff58",
   "metadata": {},
   "outputs": [],
   "source": []
  },
  {
   "cell_type": "code",
   "execution_count": null,
   "id": "0e71c4b6",
   "metadata": {},
   "outputs": [],
   "source": []
  },
  {
   "cell_type": "code",
   "execution_count": null,
   "id": "06dc03a9",
   "metadata": {},
   "outputs": [],
   "source": []
  },
  {
   "cell_type": "code",
   "execution_count": null,
   "id": "76af94ba",
   "metadata": {},
   "outputs": [],
   "source": []
  },
  {
   "cell_type": "code",
   "execution_count": 17,
   "id": "488f4771",
   "metadata": {},
   "outputs": [],
   "source": []
  },
  {
   "cell_type": "code",
   "execution_count": 35,
   "id": "25aaa310-d509-43d3-8bd8-ca7f793f5f99",
   "metadata": {},
   "outputs": [
    {
     "name": "stdout",
     "output_type": "stream",
     "text": [
      "Wygenerowana losowa macierz Z5:\n",
      "[[4 3 2 3 4 1 1 0 0 3]\n",
      " [0 1 1 4 4 0 1 2 4 4]\n",
      " [3 2 0 0 2 3 1 3 0 2]\n",
      " [0 0 4 2 4 1 2 4 4 3]]\n"
     ]
    }
   ],
   "source": [
    "# zadanko 8\n",
    "# a)\n",
    "\n",
    "random_matrix = np.random.randint(0, 5, size=(4, 10))\n",
    "print(\"Wygenerowana losowa macierz Z5:\")\n",
    "print(random_matrix)"
   ]
  },
  {
   "cell_type": "code",
   "execution_count": null,
   "id": "c5a81b8f",
   "metadata": {},
   "outputs": [],
   "source": []
  },
  {
   "cell_type": "code",
   "execution_count": null,
   "id": "30e80cbc",
   "metadata": {},
   "outputs": [],
   "source": []
  },
  {
   "cell_type": "code",
   "execution_count": null,
   "id": "c7668927",
   "metadata": {},
   "outputs": [],
   "source": []
  },
  {
   "cell_type": "code",
   "execution_count": 320,
   "id": "17a3e533",
   "metadata": {},
   "outputs": [
    {
     "name": "stdout",
     "output_type": "stream",
     "text": [
      "Unormowana macierz:\n",
      "[[1.   0.75 0.5  0.75 1.   0.25 0.25 0.   0.   0.75]\n",
      " [0.   0.25 0.25 1.   1.   0.   0.25 0.5  1.   1.  ]\n",
      " [0.75 0.5  0.   0.   0.5  0.75 0.25 0.75 0.   0.5 ]\n",
      " [0.   0.   1.   0.5  1.   0.25 0.5  1.   1.   0.75]]\n"
     ]
    }
   ],
   "source": [
    "# b)\n",
    "normalized_matrix = random_matrix / 4.0\n",
    "print(\"Unormowana macierz:\")\n",
    "print(normalized_matrix)"
   ]
  },
  {
   "cell_type": "code",
   "execution_count": null,
   "id": "42af2e77",
   "metadata": {},
   "outputs": [],
   "source": []
  },
  {
   "cell_type": "code",
   "execution_count": null,
   "id": "49999273",
   "metadata": {},
   "outputs": [],
   "source": []
  },
  {
   "cell_type": "code",
   "execution_count": 321,
   "id": "64e094f2",
   "metadata": {},
   "outputs": [
    {
     "data": {
      "image/png": "[encoded data removed]",
      "text/plain": [
       "<Figure size 640x480 with 1 Axes>"
      ]
     },
     "metadata": {},
     "output_type": "display_data"
    }
   ],
   "source": [
    "import matplotlib.pyplot as plt\n",
    "plt.imshow(normalized_matrix, cmap='gray')\n",
    "plt.show()"
   ]
  },
  {
   "cell_type": "code",
   "execution_count": 322,
   "id": "f8480277",
   "metadata": {},
   "outputs": [
    {
     "name": "stdout",
     "output_type": "stream",
     "text": [
      "Zakodowane wektory(wszystkie kolumny):\n",
      "[[4 3 2 3 4 1 1 0 0 3]\n",
      " [0 1 1 4 4 0 1 2 4 4]\n",
      " [3 2 0 0 2 3 1 3 0 2]\n",
      " [0 0 4 2 4 1 2 4 4 3]\n",
      " [0 0 4 2 4 1 2 4 4 3]\n",
      " [2 4 1 4 2 0 4 2 2 3]\n",
      " [1 2 3 2 1 4 4 0 0 2]\n",
      " [1 0 1 4 3 0 0 2 3 1]\n",
      " [3 4 3 1 1 2 1 3 4 2]\n",
      " [2 1 0 3 2 2 4 2 1 3]\n",
      " [2 0 2 3 1 4 2 3 0 0]]\n"
     ]
    }
   ],
   "source": [
    "# d)\n",
    "G = np.array([[1, 0, 0, 0, 0, 4, 4, 2, 0, 1, 1],\n",
    "              [0, 1, 0, 0, 0, 3, 0, 2, 2, 1, 0],\n",
    "              [0, 0, 1, 0, 0, 2, 0, 1, 1, 1, 1],\n",
    "              [0, 0, 0, 1, 1, 0, 0, 0, 4, 3, 0]])\n",
    "\n",
    "\n",
    "encoded_vectors = np.dot(random_matrix.T, G).T % 5\n",
    "print(\"Zakodowane wektory(wszystkie kolumny):\")\n",
    "print(encoded_vectors)"
   ]
  },
  {
   "cell_type": "code",
   "execution_count": 239,
   "id": "b7dc0a37",
   "metadata": {},
   "outputs": [
    {
     "data": {
      "text/plain": [
       "(11, 10)"
      ]
     },
     "execution_count": 239,
     "metadata": {},
     "output_type": "execute_result"
    }
   ],
   "source": [
    "encoded_vectors.shape"
   ]
  },
  {
   "cell_type": "code",
   "execution_count": null,
   "id": "9e949a93",
   "metadata": {},
   "outputs": [],
   "source": []
  },
  {
   "cell_type": "code",
   "execution_count": null,
   "id": "2bb778bb",
   "metadata": {},
   "outputs": [],
   "source": []
  },
  {
   "cell_type": "code",
   "execution_count": null,
   "id": "3a9fc278",
   "metadata": {},
   "outputs": [],
   "source": []
  },
  {
   "cell_type": "code",
   "execution_count": null,
   "id": "3622ab19",
   "metadata": {},
   "outputs": [],
   "source": []
  },
  {
   "cell_type": "code",
   "execution_count": null,
   "id": "73cd5e0c",
   "metadata": {},
   "outputs": [],
   "source": []
  },
  {
   "cell_type": "code",
   "execution_count": 323,
   "id": "3b19625a",
   "metadata": {},
   "outputs": [
    {
     "data": {
      "text/plain": [
       "array([[1, 0, 0, 0, 0, 4, 4, 2, 0, 1, 1],\n",
       "       [0, 1, 0, 0, 0, 3, 0, 2, 2, 1, 0],\n",
       "       [0, 0, 1, 0, 0, 2, 0, 1, 1, 1, 1],\n",
       "       [0, 0, 0, 1, 1, 0, 0, 0, 4, 3, 0]])"
      ]
     },
     "execution_count": 323,
     "metadata": {},
     "output_type": "execute_result"
    }
   ],
   "source": [
    "G"
   ]
  },
  {
   "cell_type": "code",
   "execution_count": 324,
   "id": "d0b420af",
   "metadata": {},
   "outputs": [
    {
     "name": "stdout",
     "output_type": "stream",
     "text": [
      "Zakodowane i przesłane wektory:\n",
      "[2 1 0 1 2 4 4 3 3 1]\n",
      "[0 1 1 4 4 0 1 2 4 4]\n",
      "[3 2 0 0 2 3 1 3 0 2]\n",
      "[0 0 4 2 4 1 2 4 4 3]\n",
      "[0 0 4 2 4 1 2 4 4 3]\n",
      "[2 4 1 4 2 0 4 2 2 3]\n",
      "[1 2 3 2 1 4 4 0 0 2]\n",
      "[1 0 1 4 3 0 0 2 3 1]\n",
      "[3 4 3 1 1 2 1 3 4 2]\n",
      "[2 1 0 3 2 2 4 2 1 3]\n",
      "[2 0 2 3 1 4 2 3 0 0]\n"
     ]
    }
   ],
   "source": [
    "# e)\n",
    "\n",
    "def simulate_channel(vector):\n",
    "    if np.random.rand() <= 0.05:\n",
    "        return (vector+3)%5\n",
    "    return vector\n",
    "\n",
    "received_vectors = np.array([simulate_channel(vector) for vector in encoded_vectors])\n",
    "print(\"Zakodowane i przesłane wektory:\")\n",
    "for i in received_vectors:\n",
    "    print(i)\n"
   ]
  },
  {
   "cell_type": "code",
   "execution_count": 325,
   "id": "ca1c85ee",
   "metadata": {},
   "outputs": [],
   "source": [
    "# f)\n",
    "a = [1, 0, 0, 0, 0, 4, 4, 2, 0, 1, 1]\n",
    "b = [0, 1, 0, 0, 0, 3, 0, 2, 2, 1, 0]\n",
    "c = [0, 0, 1, 0, 0, 2, 0, 1, 1, 1, 1]\n",
    "d = [0, 0, 0, 1, 1, 0, 0, 0, 4, 3, 0]\n",
    "\n",
    "# Zdefiniowanie zbioru Z5\n",
    "Z5 = [0, 1, 2, 3, 4]\n",
    "\n",
    "slowa_z5 = [] \n",
    "\n",
    "# Pętla generująca wszystkie kombinacje czwórki elementów ze zbioru Z5\n",
    "for combination in itertools.product(Z5, repeat=4):\n",
    "    # Obliczamy wartości każdego słowa kodowego na podstawie kombinacji czworek\n",
    "    slowo = [(a[i] * combination[0] + b[i] * combination[1] + c[i] * combination[2] + d[i] * combination[3]) \n",
    "             % 5 for i in range(11)]\n",
    "    slowa_z5.append(slowo)\n",
    "\n",
    "# for slowo in slowa_z5:\n",
    "#     print(slowo)"
   ]
  },
  {
   "cell_type": "code",
   "execution_count": 326,
   "id": "7b84edf3",
   "metadata": {},
   "outputs": [],
   "source": [
    "def mindistance_function(myList, mindistance, v):\n",
    "    for i in range(len(myList)):\n",
    "        distance = hamming_distance(myList[i], v)  \n",
    "        if distance < mindistance:\n",
    "            mindistance = distance \n",
    "    return mindistance\n",
    "\n",
    "def mindistanceVectors_function_for_v(myList, mindistance, v):\n",
    "    mindistanceVectors = []\n",
    "    for i in range(len(myList)):\n",
    "        distance = hamming_distance(myList[i], v)\n",
    "        if distance == mindistance:\n",
    "            mindistanceVectors.append(myList[i])\n",
    "    return mindistanceVectors"
   ]
  },
  {
   "cell_type": "code",
   "execution_count": 327,
   "id": "15f0c5dd",
   "metadata": {},
   "outputs": [],
   "source": [
    "def MinimizeHammingDistance(C, B, v):\n",
    "    a = B[0]\n",
    "    b = B[1]\n",
    "    c = B[2]\n",
    "    d = B[3]\n",
    "    \n",
    "    mindistance = float(\"inf\")\n",
    "    m = mindistance_function(C, mindistance, v)\n",
    "    L = mindistanceVectors_function_for_v(C, m, v)\n",
    "    w = random.choice(L)\n",
    "    # Obliczenie wektora współczynników w w bazie B\n",
    "    for c1 in range(5):\n",
    "        for c2 in range (5):\n",
    "            for c3 in range(5):\n",
    "                for c4 in range(5):\n",
    "                    v1 = c1*a\n",
    "                    v2 = c2*b\n",
    "                    v3 = c3*c\n",
    "                    v4 = c4*d\n",
    "                \n",
    "                    u = (v1+v2)%5\n",
    "                    z = (u+v3)%5\n",
    "                    y = (z+v4)%5\n",
    "                    \n",
    "                    if hamming_distance(w, y) == 0:\n",
    "                        return[c1, c2, c3, c4]"
   ]
  },
  {
   "cell_type": "code",
   "execution_count": 328,
   "id": "d64c5036",
   "metadata": {},
   "outputs": [],
   "source": [
    "decoded_vectors = []\n",
    "\n",
    "for i in received_vectors.T:\n",
    "    decoded_vectors.append(MinimizeHammingDistance(slowa_z5, G, i))"
   ]
  },
  {
   "cell_type": "code",
   "execution_count": 329,
   "id": "35a9965e",
   "metadata": {},
   "outputs": [],
   "source": [
    "decoded_vectors = np.array(decoded_vectors)"
   ]
  },
  {
   "cell_type": "code",
   "execution_count": 330,
   "id": "a8c7d025",
   "metadata": {},
   "outputs": [
    {
     "data": {
      "text/plain": [
       "array([[4, 3, 2, 3, 4, 1, 1, 0, 0, 3],\n",
       "       [0, 1, 1, 4, 4, 0, 1, 2, 4, 4],\n",
       "       [3, 2, 0, 0, 2, 3, 1, 3, 0, 2],\n",
       "       [0, 0, 4, 2, 4, 1, 2, 4, 4, 3]])"
      ]
     },
     "execution_count": 330,
     "metadata": {},
     "output_type": "execute_result"
    }
   ],
   "source": [
    "decoded_vectors.T"
   ]
  },
  {
   "cell_type": "code",
   "execution_count": 331,
   "id": "77192acd",
   "metadata": {},
   "outputs": [
    {
     "data": {
      "text/plain": [
       "array([[4, 3, 2, 3, 4, 1, 1, 0, 0, 3],\n",
       "       [0, 1, 1, 4, 4, 0, 1, 2, 4, 4],\n",
       "       [3, 2, 0, 0, 2, 3, 1, 3, 0, 2],\n",
       "       [0, 0, 4, 2, 4, 1, 2, 4, 4, 3]])"
      ]
     },
     "execution_count": 331,
     "metadata": {},
     "output_type": "execute_result"
    }
   ],
   "source": [
    "random_matrix"
   ]
  },
  {
   "cell_type": "code",
   "execution_count": 333,
   "id": "76044940",
   "metadata": {},
   "outputs": [
    {
     "name": "stdout",
     "output_type": "stream",
     "text": [
      "Unormowana macierz:\n",
      "[[1.   0.75 0.5  0.75 1.   0.25 0.25 0.   0.   0.75]\n",
      " [0.   0.25 0.25 1.   1.   0.   0.25 0.5  1.   1.  ]\n",
      " [0.75 0.5  0.   0.   0.5  0.75 0.25 0.75 0.   0.5 ]\n",
      " [0.   0.   1.   0.5  1.   0.25 0.5  1.   1.   0.75]]\n"
     ]
    }
   ],
   "source": [
    "normalized_matrix1 = decoded_vectors.T / 4.0\n",
    "print(\"Unormowana macierz:\")\n",
    "print(normalized_matrix1)"
   ]
  },
  {
   "cell_type": "code",
   "execution_count": 334,
   "id": "d6d68c03",
   "metadata": {},
   "outputs": [
    {
     "data": {
      "image/png": "[encoded data removed]",
      "text/plain": [
       "<Figure size 640x480 with 1 Axes>"
      ]
     },
     "metadata": {},
     "output_type": "display_data"
    }
   ],
   "source": [
    "plt.imshow(normalized_matrix1, cmap='gray')\n",
    "plt.show()"
   ]
  },
  {
   "cell_type": "code",
   "execution_count": null,
   "id": "7566bde6",
   "metadata": {},
   "outputs": [],
   "source": []
  },
  {
   "cell_type": "code",
   "execution_count": null,
   "id": "55ab531b",
   "metadata": {},
   "outputs": [],
   "source": []
  },
  {
   "cell_type": "code",
   "execution_count": null,
   "id": "1850742f",
   "metadata": {},
   "outputs": [],
   "source": []
  },
  {
   "cell_type": "code",
   "execution_count": null,
   "id": "fa0f6240",
   "metadata": {},
   "outputs": [],
   "source": []
  },
  {
   "cell_type": "code",
   "execution_count": null,
   "id": "89bc1d75",
   "metadata": {},
   "outputs": [],
   "source": []
  },
  {
   "cell_type": "code",
   "execution_count": null,
   "id": "c5b71b3e",
   "metadata": {},
   "outputs": [],
   "source": []
  },
  {
   "cell_type": "code",
   "execution_count": null,
   "id": "f5ec4b6a",
   "metadata": {},
   "outputs": [],
   "source": []
  },
  {
   "cell_type": "code",
   "execution_count": null,
   "id": "20fd5eab",
   "metadata": {},
   "outputs": [],
   "source": []
  },
  {
   "cell_type": "code",
   "execution_count": null,
   "id": "212726c1",
   "metadata": {},
   "outputs": [],
   "source": []
  },
  {
   "cell_type": "code",
   "execution_count": null,
   "id": "f035cb9a",
   "metadata": {},
   "outputs": [],
   "source": []
  },
  {
   "cell_type": "code",
   "execution_count": null,
   "id": "bec43ebb",
   "metadata": {},
   "outputs": [],
   "source": []
  },
  {
   "cell_type": "code",
   "execution_count": null,
   "id": "c750e7ba",
   "metadata": {},
   "outputs": [],
   "source": []
  },
  {
   "cell_type": "code",
   "execution_count": null,
   "id": "44d3525a",
   "metadata": {
    "scrolled": true
   },
   "outputs": [],
   "source": []
  },
  {
   "cell_type": "code",
   "execution_count": null,
   "id": "4029b2f4",
   "metadata": {},
   "outputs": [],
   "source": []
  },
  {
   "cell_type": "code",
   "execution_count": null,
   "id": "8e567e34",
   "metadata": {},
   "outputs": [],
   "source": []
  },
  {
   "cell_type": "code",
   "execution_count": null,
   "id": "a148a7d8",
   "metadata": {},
   "outputs": [],
   "source": []
  }
 ],
 "metadata": {
  "kernelspec": {
   "display_name": "Python 3 (ipykernel)",
   "language": "python",
   "name": "python3"
  },
  "language_info": {
   "codemirror_mode": {
    "name": "ipython",
    "version": 3
   },
   "file_extension": ".py",
   "mimetype": "text/x-python",
   "name": "python",
   "nbconvert_exporter": "python",
   "pygments_lexer": "ipython3",
   "version": "3.11.5"
  }
 },
 "nbformat": 4,
 "nbformat_minor": 5
}
